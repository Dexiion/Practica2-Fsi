{
  "nbformat": 4,
  "nbformat_minor": 0,
  "metadata": {
    "colab": {
      "name": "Practica2 - FSI.ipynb",
      "provenance": [],
      "collapsed_sections": []
    },
    "kernelspec": {
      "name": "python3",
      "display_name": "Python 3"
    },
    "language_info": {
      "name": "python"
    }
  },
  "cells": [
    {
      "cell_type": "code",
      "metadata": {
        "id": "X4vcAjbCIwBQ",
        "colab": {
          "base_uri": "https://localhost:8080/",
          "height": 900
        },
        "outputId": "7863d98b-1af3-44eb-c025-3bfca2720eb1"
      },
      "source": [
        "from google.colab import drive\n",
        "drive.mount('/content/drive')\n",
        "from keras.preprocessing.image import ImageDataGenerator\n",
        "from keras.models import Sequential\n",
        "from keras.layers import Dense, Dropout\n",
        "from keras.optimizers import RMSprop\n",
        "from keras.layers import Dense, Dropout, Flatten\n",
        "from keras.layers import Conv2D, MaxPooling2D\n",
        "from keras import backend as K\n",
        "from keras.callbacks import EarlyStopping\n",
        "import keras\n",
        "from time import time\n",
        "\n",
        "K.clear_session()\n",
        "\n",
        "\n",
        "clases = 3\n",
        "\n",
        "directorio_entrenamiento  = '/content/drive/My Drive/data2/entrenamiento/'\n",
        "directorio_validacion  = '/content/drive/My Drive/data2/validacion/'\n",
        "\n",
        "datagen_entrenamiento = ImageDataGenerator(\n",
        "        rescale=1./255,\n",
        "        rotation_range=15,\n",
        "        zoom_range=0.1,\n",
        "        horizontal_flip=True\n",
        ")\n",
        "\n",
        "datagen_validacion = ImageDataGenerator(\n",
        "        rescale=1./255\n",
        ")\n",
        "\n",
        "generador_entrenamiento = datagen_entrenamiento.flow_from_directory(\n",
        "        directorio_entrenamiento,\n",
        "        target_size=(350, 350),\n",
        "        batch_size=32,\n",
        "        class_mode='categorical')\n",
        "\n",
        "generador_validacion = datagen_validacion.flow_from_directory(\n",
        "        directorio_validacion,\n",
        "        target_size=(350, 350),\n",
        "        batch_size=32,\n",
        "        class_mode='categorical')\n",
        "\n",
        "red_neuronal = Sequential()\n",
        "red_neuronal.add(Conv2D(32, kernel_size=(3, 3),\n",
        "                 activation='relu',\n",
        "                 input_shape=(350, 350, 3)))\n",
        "red_neuronal.add(MaxPooling2D(pool_size=(2, 2)))\n",
        "\n",
        "red_neuronal.add(Conv2D(64, (3, 3), activation='relu'))\n",
        "red_neuronal.add(MaxPooling2D(pool_size=(2, 2)))\n",
        "\n",
        "red_neuronal.add(Dropout(0.25))\n",
        "red_neuronal.add(Flatten())\n",
        "red_neuronal.add(Dense(256, activation='relu'))\n",
        "\n",
        "red_neuronal.add(Dropout(0.5))\n",
        "red_neuronal.add(Dense(clases, activation='softmax'))\n",
        "\n",
        "red_neuronal.compile(loss=keras.losses.categorical_crossentropy,\n",
        "              optimizer=keras.optimizers.Adam(),\n",
        "              metrics=['accuracy'])\n",
        "epocas = 20\n",
        "\n",
        "es = EarlyStopping(monitor='val_accuracy', mode='max', verbose=1, patience=3, restore_best_weights=True)\n",
        "\n",
        "history = red_neuronal.fit(\n",
        "        generador_entrenamiento,\n",
        "        epochs=epocas,\n",
        "        steps_per_epoch=7,\n",
        "        validation_data = generador_validacion,\n",
        "        callbacks = [es]\n",
        ")\n",
        "\n",
        "red_neuronal.save(\"/content/drive/My Drive/data2/redneuronal.h5\")\n",
        "\n",
        "\n",
        "from matplotlib import pyplot as plt\n",
        "\n",
        "plt.plot(history.history['accuracy'], label='accuracy')\n",
        "plt.plot(history.history['val_accuracy'], label='validation accuracy')\n",
        "\n",
        "plt.title('Accuracy entreno RN FSI')\n",
        "plt.xlabel('Épocas')\n",
        "plt.legend(loc=\"lower right\")\n",
        "\n",
        "plt.show()\n",
        "\n",
        "from matplotlib import pyplot as plt\n",
        "\n",
        "plt.plot(history.history['loss'], label='loss')\n",
        "plt.plot(history.history['val_loss'], label='validation loss')\n",
        "\n",
        "plt.title('Loss entreno RN FSI')\n",
        "plt.xlabel('Épocas')\n",
        "plt.legend(loc=\"lower right\")\n",
        "\n",
        "plt.show()"
      ],
      "execution_count": 7,
      "outputs": [
        {
          "output_type": "stream",
          "text": [
            "Drive already mounted at /content/drive; to attempt to forcibly remount, call drive.mount(\"/content/drive\", force_remount=True).\n",
            "Found 224 images belonging to 3 classes.\n",
            "Found 139 images belonging to 3 classes.\n",
            "Epoch 1/20\n",
            "7/7 [==============================] - 62s 8s/step - loss: 27.1852 - accuracy: 0.3584 - val_loss: 2.2740 - val_accuracy: 0.5324\n",
            "Epoch 2/20\n",
            "7/7 [==============================] - 49s 7s/step - loss: 2.2339 - accuracy: 0.5540 - val_loss: 1.2305 - val_accuracy: 0.4101\n",
            "Epoch 3/20\n",
            "7/7 [==============================] - 49s 7s/step - loss: 0.8312 - accuracy: 0.6942 - val_loss: 0.8804 - val_accuracy: 0.5683\n",
            "Epoch 4/20\n",
            "7/7 [==============================] - 53s 8s/step - loss: 0.5217 - accuracy: 0.7745 - val_loss: 0.7161 - val_accuracy: 0.7482\n",
            "Epoch 5/20\n",
            "7/7 [==============================] - 49s 7s/step - loss: 0.6044 - accuracy: 0.7840 - val_loss: 0.6838 - val_accuracy: 0.7266\n",
            "Epoch 6/20\n",
            "7/7 [==============================] - 53s 8s/step - loss: 0.3687 - accuracy: 0.8686 - val_loss: 0.6769 - val_accuracy: 0.7050\n",
            "Epoch 7/20\n",
            "7/7 [==============================] - 53s 8s/step - loss: 0.3691 - accuracy: 0.8463 - val_loss: 0.6427 - val_accuracy: 0.7410\n",
            "Restoring model weights from the end of the best epoch.\n",
            "Epoch 00007: early stopping\n"
          ],
          "name": "stdout"
        },
        {
          "output_type": "display_data",
          "data": {
            "image/png": "[encoded data removed]",
            "text/plain": [
              "<Figure size 432x288 with 1 Axes>"
            ]
          },
          "metadata": {
            "tags": [],
            "needs_background": "light"
          }
        },
        {
          "output_type": "display_data",
          "data": {
            "image/png": "[encoded data removed]",
            "text/plain": [
              "<Figure size 432x288 with 1 Axes>"
            ]
          },
          "metadata": {
            "tags": [],
            "needs_background": "light"
          }
        }
      ]
    },
    {
      "cell_type": "code",
      "metadata": {
        "colab": {
          "base_uri": "https://localhost:8080/"
        },
        "id": "cQe0ffeSpGO7",
        "outputId": "8b482de4-f9e5-464f-9646-81dd94e5223d"
      },
      "source": [
        "import numpy as np\n",
        "from keras_preprocessing.image import  load_img, img_to_array\n",
        "from keras.models import  load_model\n",
        "\n",
        "cnn=load_model('/content/drive/My Drive/data2/redneuronal.h5')\n",
        "\n",
        "def predict(file):\n",
        "  x=load_img(file, target_size=(350, 350))\n",
        "  x=img_to_array(x)\n",
        "  x=np.expand_dims(x, axis=0)\n",
        "  array=cnn.predict(x) \n",
        "  res=array[0]\n",
        "  resultado=np.argmax(res)\n",
        "  if resultado == 0:\n",
        "    print('Barco')\n",
        "  elif resultado == 1:\n",
        "    print('Coche')\n",
        "  elif resultado == 2:\n",
        "    print('Moto')\n",
        "\n",
        "predict('/content/drive/My Drive/data2/prediccion/rcxd.jpg')"
      ],
      "execution_count": 6,
      "outputs": [
        {
          "output_type": "stream",
          "text": [
            "WARNING:tensorflow:6 out of the last 6 calls to <function Model.make_predict_function.<locals>.predict_function at 0x7f15419955f0> triggered tf.function retracing. Tracing is expensive and the excessive number of tracings could be due to (1) creating @tf.function repeatedly in a loop, (2) passing tensors with different shapes, (3) passing Python objects instead of tensors. For (1), please define your @tf.function outside of the loop. For (2), @tf.function has experimental_relax_shapes=True option that relaxes argument shapes that can avoid unnecessary retracing. For (3), please refer to https://www.tensorflow.org/guide/function#controlling_retracing and https://www.tensorflow.org/api_docs/python/tf/function for  more details.\n",
            "Coche\n"
          ],
          "name": "stdout"
        }
      ]
    }
  ]
}